{
  "nbformat": 4,
  "nbformat_minor": 0,
  "metadata": {
    "colab": {
      "name": "Untitled5.ipynb",
      "provenance": [],
      "collapsed_sections": []
    },
    "kernelspec": {
      "name": "python3",
      "display_name": "Python 3"
    }
  },
  "cells": [
    {
      "cell_type": "markdown",
      "metadata": {
        "id": "trubmXo4IOSE",
        "colab_type": "text"
      },
      "source": [
        "#Read file to numpy\n",
        "\n",
        "Download the Iris dataset [here](https://gist.githubusercontent.com/netj/8836201/raw/6f9306ad21398ea43cba4f7d537619d0e07d5ae3/iris.csv) that we already analyzed in ```EXP 1``` and upload the file to your local filesystem. (In case you are using Google Collaboratory, click the file icon on the left sidebar, and upload there.)\n",
        "\n",
        "The following lines of code will read the ```iris.csv``` file into a Numpy ndarray called ```data```."
      ]
    },
    {
      "cell_type": "code",
      "metadata": {
        "id": "BuS-ktvEJe4j",
        "colab_type": "code",
        "colab": {}
      },
      "source": [
        "import numpy as np\n",
        "data = np.genfromtxt(\"iris.csv\",delimiter=',')"
      ],
      "execution_count": 0,
      "outputs": []
    },
    {
      "cell_type": "markdown",
      "metadata": {
        "id": "onWn4kY6J1rw",
        "colab_type": "text"
      },
      "source": [
        "Look at its ```shape``` of the ```ndarray``` and observe its entries.\n",
        "\n",
        "Clearly all the entries of the first row, and the entries of the last column are not numerical values (The first row describes the column, and the last column in all the other rows specifies the name of the species of flowers - these are all alphanumeric strings). Those are not of any interest to us in this experiment."
      ]
    },
    {
      "cell_type": "code",
      "metadata": {
        "id": "mkCsaB-4J-_o",
        "colab_type": "code",
        "colab": {}
      },
      "source": [
        "print(\"Shape of data:\",data.shape)\n",
        "print(data)"
      ],
      "execution_count": 0,
      "outputs": []
    },
    {
      "cell_type": "markdown",
      "metadata": {
        "id": "i_NHkDgcJ_WN",
        "colab_type": "text"
      },
      "source": [
        "Slice the ```ndarray``` to exclude the first row and last column, i.e., take the first four columns from all the rows starting from the second row onwards."
      ]
    },
    {
      "cell_type": "code",
      "metadata": {
        "id": "PfDqkBwsL_Ud",
        "colab_type": "code",
        "colab": {}
      },
      "source": [
        "# Remove the entire 1st row; and\n",
        "# 5th column in all other rows\n",
        "data = None"
      ],
      "execution_count": 0,
      "outputs": []
    },
    {
      "cell_type": "markdown",
      "metadata": {
        "id": "8kJnhELLM9Z3",
        "colab_type": "text"
      },
      "source": [
        "Reprint the data to check if the array has been sliced as required.\n",
        "\n",
        "The shape should reflect the fact that one row and one column have been removed."
      ]
    },
    {
      "cell_type": "code",
      "metadata": {
        "id": "3WQuv9mgNpW_",
        "colab_type": "code",
        "colab": {}
      },
      "source": [
        "print(\"Shape of data:\",data.shape)\n",
        "print(data)"
      ],
      "execution_count": 0,
      "outputs": []
    },
    {
      "cell_type": "markdown",
      "metadata": {
        "id": "iXLKoSXqOAq3",
        "colab_type": "text"
      },
      "source": [
        "Find the mean and the variance of all the columns using methods from the NumPy module.\n",
        "\n",
        "You will find both mean and variance as two ```ndarrays```, each containing four values for the four columns."
      ]
    },
    {
      "cell_type": "code",
      "metadata": {
        "id": "wlDLUKMVfSgB",
        "colab_type": "code",
        "colab": {}
      },
      "source": [
        "mean = None #Find the mean\n",
        "variance = None #Find the variance \n",
        "print(\"Mean:\",mean)\n",
        "print(\"Variance\",variance)\n",
        "\n",
        "'''\n",
        "The expected output of this cell is -\n",
        "Mean: [5.84333333 3.05733333 3.758      1.19933333]\n",
        "Variance [0.68112222 0.18871289 3.09550267 0.57713289]\n",
        "'''"
      ],
      "execution_count": 0,
      "outputs": []
    },
    {
      "cell_type": "markdown",
      "metadata": {
        "id": "lwvw-yExfYgp",
        "colab_type": "text"
      },
      "source": [
        "# Find the covariance matrix\n",
        "\n",
        "The sliced data (i.e. the 2D ndarray obtained after removing the first row and last column) can be imagined as a matrix. Find the covariance matrix of the sliced data using methods available in the NumPy module -\n",
        "\n",
        "WARNING: You may need to transpose the matrix before you can apply the required method. (The ```.T``` argument gives the transpose of a ```ndarray``` matrix. So, ```data.T``` will give the transpose of ```data```.)"
      ]
    },
    {
      "cell_type": "code",
      "metadata": {
        "id": "AF85XFG2i_h2",
        "colab_type": "code",
        "colab": {}
      },
      "source": [
        "cov = None #Find the covariance matrix\n",
        "print(\"Covariance Matrix\")\n",
        "print(cov)\n",
        "'''\n",
        "The expected output of this cell is -\n",
        "[[ 0.68569351 -0.042434    1.27431544  0.51627069]\n",
        " [-0.042434    0.18997942 -0.32965638 -0.12163937]\n",
        " [ 1.27431544 -0.32965638  3.11627785  1.2956094 ]\n",
        " [ 0.51627069 -0.12163937  1.2956094   0.58100626]]\n",
        "'''"
      ],
      "execution_count": 0,
      "outputs": []
    },
    {
      "cell_type": "markdown",
      "metadata": {
        "id": "dmyY44t2jyJX",
        "colab_type": "text"
      },
      "source": [
        "#Find the Eigen values and Eigen Vectors\n",
        "\n",
        "Once you have obtained the covariance matrix in the above step, find the Eigen values and the corresponding Eigen vectors using methods in the NumPy module -"
      ]
    },
    {
      "cell_type": "code",
      "metadata": {
        "id": "6kA00EgSkUm-",
        "colab_type": "code",
        "colab": {}
      },
      "source": [
        "# Write code to find the Eigen values and Eigen vectors here\n",
        "eigen_values = None\n",
        "eigen_vectors = None\n",
        "print(\"Eigen values:\",eigen_values)\n",
        "print(\"Eigen vectors:\")\n",
        "print(eigen_vectors)\n",
        "'''\n",
        "The expected output of this cell is -\n",
        "-----------------------------------------------------------\n",
        "Eigen values: [4.22824171 0.24267075 0.0782095  0.02383509]\n",
        "Eigen vectors:\n",
        "[[ 0.36138659 -0.65658877 -0.58202985  0.31548719]\n",
        " [-0.08452251 -0.73016143  0.59791083 -0.3197231 ]\n",
        " [ 0.85667061  0.17337266  0.07623608 -0.47983899]\n",
        " [ 0.3582892   0.07548102  0.54583143  0.75365743]]\n",
        "'''"
      ],
      "execution_count": 0,
      "outputs": []
    },
    {
      "cell_type": "markdown",
      "metadata": {
        "id": "hEyALckXkckE",
        "colab_type": "text"
      },
      "source": [
        "#Sort the Eigen values\n",
        "\n",
        "Once you have found out the Eigen values above, sort them in ascending order.\n",
        "\n",
        "Sort the Eigen vectors in the order in which their associated Eigen values were sorted."
      ]
    },
    {
      "cell_type": "code",
      "metadata": {
        "id": "zzR6AIZNt7z1",
        "colab_type": "code",
        "colab": {}
      },
      "source": [
        "# Write code to sort here\n",
        "sorted_eigen_vector = None\n",
        "print(\"Sorted Eigen Vectors:\")\n",
        "print(sorted_eigen_vector)\n",
        "'''\n",
        "The expected output of this cell is -\n",
        "-----------------------------------------------------------\n",
        "Sorted Eigen Vectors:\n",
        "[[ 0.3582892   0.07548102  0.54583143  0.75365743]\n",
        " [ 0.85667061  0.17337266  0.07623608 -0.47983899]\n",
        " [-0.08452251 -0.73016143  0.59791083 -0.3197231 ]\n",
        " [ 0.36138659 -0.65658877 -0.58202985  0.31548719]\n",
        " ]\n",
        "'''"
      ],
      "execution_count": 0,
      "outputs": []
    },
    {
      "cell_type": "markdown",
      "metadata": {
        "id": "VjgxeDf_umMB",
        "colab_type": "text"
      },
      "source": [
        "#Good Job!\n",
        "\n",
        "You have finished coding almost the entirety of the **Principal Component Analysis** (PCA) algorithm, which is a very important algorithm in  Machine Learning. Congratulations!"
      ]
    }
  ]
}