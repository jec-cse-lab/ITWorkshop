{
  "nbformat": 4,
  "nbformat_minor": 0,
  "metadata": {
    "colab": {
      "name": "IT_Workshop_NumPy.ipynb",
      "provenance": [],
      "collapsed_sections": []
    },
    "kernelspec": {
      "name": "python3",
      "display_name": "Python 3"
    }
  },
  "cells": [
    {
      "cell_type": "markdown",
      "metadata": {
        "id": "Keqn4esD7XNE",
        "colab_type": "text"
      },
      "source": [
        "# What is NumPy?\n",
        "\n",
        "NumPy stands for Numerical Python. NumPy is a python library used for working with arrays.\n",
        "\n",
        "It also has functions for working in domain of linear algebra, fourier transform, and matrices.\n",
        "\n",
        "**Why Use NumPy?**\n",
        "\n",
        "In Python we have lists that serve the purpose of arrays, but they are slow to process.\n",
        "\n",
        "NumPy aims to provide an array object that is up to 50x faster that traditional Python lists.\n",
        "\n",
        "NumPy arrays are stored at one continuous place in memory unlike lists, so processes can access and manipulate them very efficiently. This behavior is called *locality of reference* in computer science.\n",
        "\n",
        "This is the main reason why NumPy is faster than lists. Also it is optimized to work with latest CPU architectures."
      ]
    },
    {
      "cell_type": "code",
      "metadata": {
        "id": "qDUCEina7oIF",
        "colab_type": "code",
        "colab": {}
      },
      "source": [
        "import numpy as np\n",
        "np.__version__"
      ],
      "execution_count": 0,
      "outputs": []
    },
    {
      "cell_type": "markdown",
      "metadata": {
        "id": "CGVeYa-X8OV1",
        "colab_type": "text"
      },
      "source": [
        "**Create a NumPy *ndarray* Object**\n",
        "\n",
        "The array object in NumPy is called **ndarray**.\n",
        "\n",
        "We can create a NumPy ndarray object by using the **array()** function."
      ]
    },
    {
      "cell_type": "code",
      "metadata": {
        "id": "7MLeRYY09Yb3",
        "colab_type": "code",
        "colab": {}
      },
      "source": [
        "arr = np.array([1, 2, 3, 4, 5])\n",
        "print(arr)\n",
        "print(type(arr))"
      ],
      "execution_count": 0,
      "outputs": []
    },
    {
      "cell_type": "markdown",
      "metadata": {
        "id": "0ekqleNiCWJA",
        "colab_type": "text"
      },
      "source": [
        "To create an **ndarray**, we can pass a list, tuple or any array-like object into the **array()** method, and it will be converted into an ndarray:"
      ]
    },
    {
      "cell_type": "code",
      "metadata": {
        "id": "189H3gxFCVBQ",
        "colab_type": "code",
        "colab": {}
      },
      "source": [
        "tup = (1, 2, 3, 4, 5)\n",
        "arr = np.array(tup)\n",
        "print(arr)"
      ],
      "execution_count": 0,
      "outputs": []
    },
    {
      "cell_type": "markdown",
      "metadata": {
        "id": "iR-DAxBYClAc",
        "colab_type": "text"
      },
      "source": [
        "#Dimensions in Arrays\n",
        "\n",
        "A dimension in arrays is one level of array depth (nested arrays).\n",
        "\n",
        "**Nested arrays** are arrays that have arrays as their elements.\n",
        "\n",
        "NumPy Arrays provides the **ndim** attribute that returns an integer that tells us how many dimensions the array have."
      ]
    },
    {
      "cell_type": "code",
      "metadata": {
        "id": "ykSo9N-qCkBq",
        "colab_type": "code",
        "colab": {}
      },
      "source": [
        "a = np.array(42)\n",
        "b = np.array([1, 2, 3, 4, 5])\n",
        "c = np.array([[1, 2, 3], [4, 5, 6]])\n",
        "d = np.array([[[1, 2, 3], [4, 5, 6]], [[1, 2, 3], [4, 5, 6]]])\n",
        "\n",
        "print(a.ndim)\n",
        "print(b.ndim)\n",
        "print(c.ndim)\n",
        "print(d.ndim)"
      ],
      "execution_count": 0,
      "outputs": []
    },
    {
      "cell_type": "markdown",
      "metadata": {
        "id": "igln_Kv0Nwx5",
        "colab_type": "text"
      },
      "source": [
        "# Array creation routines\n",
        "\n",
        "A new **ndarray** object can be constructed by any of the following array creation routines or using a low-level ndarray constructor (as shown above).\n",
        "\n",
        "* **empty** creates an uninitialized array of specified shape.\n",
        "* **zeros** returns a new array of specified size, filled with zeros.\n",
        "* **ones** returns a new array of specified size and type, filled with ones.\n",
        "* **identity** returns the Identity matrix of the given size.\n",
        "\n",
        "The default **dtypes** is float for all the above functions."
      ]
    },
    {
      "cell_type": "code",
      "metadata": {
        "id": "8HNBhTXaOIoR",
        "colab_type": "code",
        "colab": {}
      },
      "source": [
        "print(\"Empty matrix\")\n",
        "empty_arr = np.empty([3,2], dtype = int) \n",
        "print(empty_arr)\n",
        "print(\"\\n\")\n",
        "\n",
        "print(\"Zero Matrix\")\n",
        "zeros_arr = np.zeros(5)\n",
        "print(zeros_arr)\n",
        "print(\"\\n\")\n",
        "\n",
        "print(\"Ones Matrix\")\n",
        "ones_arr = np.ones([3,5]) \n",
        "print(ones_arr)\n",
        "print(\"\\n\")\n",
        "\n",
        "print(\"Identity Matrix\")\n",
        "identity_arr = np.identity(5)\n",
        "print(identity_arr)\n",
        "print(\"\\n\")"
      ],
      "execution_count": 0,
      "outputs": []
    },
    {
      "cell_type": "markdown",
      "metadata": {
        "id": "7TnpgDYaQao_",
        "colab_type": "text"
      },
      "source": [
        "The Numpy **arange** function return evenly spaced values within a given interval.\n",
        "\n",
        "Values are generated within the half-open interval **[start, stop)** (in other words, the interval including *start* but excluding *stop*).\n",
        "\n",
        "For integer arguments the function is equivalent to the Python built-in **range** function, but returns an **ndarray** rather than a **list**."
      ]
    },
    {
      "cell_type": "code",
      "metadata": {
        "id": "8b6bWcIeRI6P",
        "colab_type": "code",
        "colab": {}
      },
      "source": [
        "arr = np.arange(3)\n",
        "print(arr)\n",
        "arr = np.arange(3.0)\n",
        "print(arr)\n",
        "arr = np.arange(3,7)\n",
        "print(arr)\n",
        "arr = np.arange(3,7,2)\n",
        "print(arr)"
      ],
      "execution_count": 0,
      "outputs": []
    },
    {
      "cell_type": "markdown",
      "metadata": {
        "id": "S20LzXLODMNC",
        "colab_type": "text"
      },
      "source": [
        "# Indexing Array Elements\n",
        "\n",
        "Array indexing is the same as accessing an array element.\n",
        "\n",
        "You can access an array element by referring to its index number."
      ]
    },
    {
      "cell_type": "code",
      "metadata": {
        "id": "iERCeENUDqK2",
        "colab_type": "code",
        "colab": {}
      },
      "source": [
        "arr = np.array([1, 2, 3, 4])\n",
        "print('2nd element: ', arr[1])\n",
        "arr = np.array([[1,2,3,4,5], [6,7,8,9,10]])\n",
        "print('2nd element on 1st dim: ', arr[0, 1])\n",
        "arr = np.array([[[1, 2, 3], [4, 5, 6]], [[7, 8, 9], [10, 11, 12]]])\n",
        "print('3rd element of 2nd matrix of 1st dim: ',arr[0, 1, 2])"
      ],
      "execution_count": 0,
      "outputs": []
    },
    {
      "cell_type": "markdown",
      "metadata": {
        "id": "QuS6FBK_AkqN",
        "colab_type": "text"
      },
      "source": [
        "# Slicing an array\n",
        "\n",
        "Slicing in Python means taking elements from one given index to another given index.\n",
        "\n",
        "We pass slice instead of index like this: ```[start:end]```.\n",
        "\n",
        "We can also define the step, like this: ```[start:end:step]```.\n",
        "\n",
        "* If we dont pass ```start``` its considered 0.\n",
        "* If we dont pass ```end``` its considered length of array in that dimension.\n",
        "* If we dont pass ```step``` its considered 1\n",
        "\n",
        "The result includes the ```start``` index, but excludes the ```end``` index."
      ]
    },
    {
      "cell_type": "code",
      "metadata": {
        "id": "nMJQyZIfDLCw",
        "colab_type": "code",
        "colab": {}
      },
      "source": [
        "arr = np.array([1, 2, 3, 4, 5, 6, 7])\n",
        "\n",
        "# Slice elements from index 1 to index 5 from the following array\n",
        "print(arr[1:5])\n",
        "\n",
        "# Slice elements from index 4 to the end of the array\n",
        "print(arr[4:])\n",
        "\n",
        "# Slice elements from the beginning to index 4 (not included):\n",
        "print(arr[:4])"
      ],
      "execution_count": 0,
      "outputs": []
    },
    {
      "cell_type": "markdown",
      "metadata": {
        "id": "rG2MwzkeC8XB",
        "colab_type": "text"
      },
      "source": [
        "**Negative Slicing**\n",
        "\n",
        "Use the minus operator to refer to an index from the end"
      ]
    },
    {
      "cell_type": "code",
      "metadata": {
        "id": "9QHPq72NC_MW",
        "colab_type": "code",
        "colab": {}
      },
      "source": [
        "# Slice from the index 3 from the end to index 1 from the end\n",
        "print(arr[-3:-1])"
      ],
      "execution_count": 0,
      "outputs": []
    },
    {
      "cell_type": "markdown",
      "metadata": {
        "id": "hx4BmSL0D-qq",
        "colab_type": "text"
      },
      "source": [
        "**Use the step value to determine the step of the slicing**"
      ]
    },
    {
      "cell_type": "code",
      "metadata": {
        "id": "Z0uMRcr_EENT",
        "colab_type": "code",
        "colab": {}
      },
      "source": [
        "# Return every other element from index 1 to index 5\n",
        "print(arr[1:5:2])\n",
        "\n",
        "# Return every other element from the entire array\n",
        "print(arr[::2])"
      ],
      "execution_count": 0,
      "outputs": []
    },
    {
      "cell_type": "markdown",
      "metadata": {
        "id": "XjN7ypSAEUOu",
        "colab_type": "text"
      },
      "source": [
        "**Slicing 2-D Arrays**"
      ]
    },
    {
      "cell_type": "code",
      "metadata": {
        "id": "tFXbV1_oEYZJ",
        "colab_type": "code",
        "colab": {}
      },
      "source": [
        "arr = np.array([[1, 2, 3, 4, 5], [6, 7, 8, 9, 10]])\n",
        "\n",
        "# From the second element, slice elements from index 1 to index 4 (not included)\n",
        "print(arr[1, 1:4])\n",
        "\n",
        "# From both elements, return index 2\n",
        "print(arr[0:2, 2])\n",
        "\n",
        "# From both elements, slice index 1 to index 4 (not included),\n",
        "# this will return a 2-D array\n",
        "print(arr[0:2, 1:4])"
      ],
      "execution_count": 0,
      "outputs": []
    },
    {
      "cell_type": "markdown",
      "metadata": {
        "id": "FOf6ZHsPEVut",
        "colab_type": "text"
      },
      "source": [
        "# Shape of an array\n",
        "\n",
        "The shape of an array is the number of elements in each dimension.\n",
        "\n",
        "NumPy arrays have an attribute called **shape** that returns a tuple with each index having the number of corresponding elements.\n",
        "\n",
        "Integers at every index tells about the number of elements the corresponding dimension has."
      ]
    },
    {
      "cell_type": "code",
      "metadata": {
        "id": "FR23oAuEFtvA",
        "colab_type": "code",
        "colab": {}
      },
      "source": [
        "arr = np.array([[1, 2, 3, 4], [5, 6, 7, 8]])\n",
        "print(arr.shape)"
      ],
      "execution_count": 0,
      "outputs": []
    },
    {
      "cell_type": "markdown",
      "metadata": {
        "id": "Np-5QGHcGhws",
        "colab_type": "text"
      },
      "source": [
        "# Reshaping arrays\n",
        "\n",
        "Reshaping means changing the shape of an array.\n",
        "\n",
        "The shape of an array is the number of elements in each dimension.\n",
        "\n",
        "By reshaping we can add or remove dimensions or change number of elements in each dimension."
      ]
    },
    {
      "cell_type": "code",
      "metadata": {
        "id": "xeFA8qa5GhOO",
        "colab_type": "code",
        "colab": {}
      },
      "source": [
        "arr = np.array([1, 2, 3, 4, 5, 6, 7, 8, 9, 10, 11, 12])\n",
        "\n",
        "# Convert the above 1-D array with 12 elements into a 2-D array.\n",
        "# The outermost dimension will have 4 arrays, each with 3 elements\n",
        "new_2D = arr.reshape(4, 3)\n",
        "print(new_2D)\n",
        "\n",
        "# Convert the following 1-D array with 12 elements into a 3-D array.\n",
        "# The outermost dimension will have 2 arrays that contains 3 arrays,\n",
        "# each with 2 elements\n",
        "new_3D = arr.reshape(2, 3, 2)\n",
        "print(new_3D)"
      ],
      "execution_count": 0,
      "outputs": []
    },
    {
      "cell_type": "markdown",
      "metadata": {
        "id": "P8cIMy1aIBS0",
        "colab_type": "text"
      },
      "source": [
        "**Can We Reshape Into any Shape?**\n",
        "\n",
        "Yes, as long as the elements required for reshaping are equal in both shapes."
      ]
    },
    {
      "cell_type": "code",
      "metadata": {
        "id": "WJwHEMpOIFcN",
        "colab_type": "code",
        "colab": {}
      },
      "source": [
        "try:\n",
        "  arr = np.array([1, 2, 3, 4, 5, 6, 7, 8])\n",
        "  newarr = arr.reshape(3, 3)\n",
        "  print(newarr)\n",
        "except ValueError:\n",
        "  print(\"Array size mismatch\")"
      ],
      "execution_count": 0,
      "outputs": []
    },
    {
      "cell_type": "markdown",
      "metadata": {
        "id": "agmawAXjJWQ4",
        "colab_type": "text"
      },
      "source": [
        "**Flattening the arrays**\n",
        "\n",
        "Flattening array means converting a multidimensional array into a 1D array. We can use **reshape(-1)** to do this."
      ]
    },
    {
      "cell_type": "code",
      "metadata": {
        "id": "Yjg4VpWsJc6O",
        "colab_type": "code",
        "colab": {}
      },
      "source": [
        "arr = np.array([[1, 2, 3], [4, 5, 6]])\n",
        "newarr = arr.reshape(-1)\n",
        "print(newarr)"
      ],
      "execution_count": 0,
      "outputs": []
    },
    {
      "cell_type": "markdown",
      "metadata": {
        "id": "Gx8viQEgLQOY",
        "colab_type": "text"
      },
      "source": [
        "# Filtering Arrays\n",
        "\n",
        "Getting some elements out of an existing array and creating a new array out of them is called **filtering**.\n",
        "\n",
        "In NumPy, you filter an array using a boolean index list."
      ]
    },
    {
      "cell_type": "code",
      "metadata": {
        "id": "OXehySVfLY_T",
        "colab_type": "code",
        "colab": {}
      },
      "source": [
        "arr = np.array([41, 42, 43, 44])\n",
        "x = [True, False, True, False]\n",
        "newarr = arr[x]\n",
        "print(newarr)"
      ],
      "execution_count": 0,
      "outputs": []
    },
    {
      "cell_type": "markdown",
      "metadata": {
        "id": "xgFpQpkeLfc_",
        "colab_type": "text"
      },
      "source": [
        "**Creating Filter Directly From Array**\n",
        "\n",
        "Create a filter array that will return only values higher than 42."
      ]
    },
    {
      "cell_type": "code",
      "metadata": {
        "id": "WtARObZgLlQc",
        "colab_type": "code",
        "colab": {}
      },
      "source": [
        "filter_arr = arr > 42\n",
        "print(filter_arr)\n",
        "\n",
        "newarr = arr[filter_arr]\n",
        "print(newarr)"
      ],
      "execution_count": 0,
      "outputs": []
    },
    {
      "cell_type": "markdown",
      "metadata": {
        "id": "L6Kg6dYWMJR_",
        "colab_type": "text"
      },
      "source": [
        "Create a filter array that will return only even elements from the original array"
      ]
    },
    {
      "cell_type": "code",
      "metadata": {
        "id": "YhZraLU7MORR",
        "colab_type": "code",
        "colab": {}
      },
      "source": [
        "arr = np.array([1, 2, 3, 4, 5, 6, 7])\n",
        "\n",
        "filter_arr = arr % 2 == 0\n",
        "print(filter_arr)\n",
        "\n",
        "newarr = arr[filter_arr]\n",
        "print(newarr)"
      ],
      "execution_count": 0,
      "outputs": []
    },
    {
      "cell_type": "markdown",
      "metadata": {
        "id": "fJgiUqrMR5gm",
        "colab_type": "text"
      },
      "source": [
        "# Arithmetic Operations"
      ]
    },
    {
      "cell_type": "code",
      "metadata": {
        "id": "WxngD7y9R8QQ",
        "colab_type": "code",
        "colab": {}
      },
      "source": [
        "print('First array:')\n",
        "a = np.array([11,12,13])\n",
        "#a = np.arange(9, dtype = np.float_).reshape(3,3)\n",
        "print(a)\n",
        "\n",
        "print('Second array:')\n",
        "b = np.array([2,3,4])\n",
        "print(b)\n",
        "\n",
        "print('Add the two arrays:')\n",
        "print(np.add(a,b))\n",
        "\n",
        "print('Subtract the two arrays:')\n",
        "print(np.subtract(a,b))\n",
        "\n",
        "print('Multiply the two arrays:')\n",
        "print(np.multiply(a,b))\n",
        "\n",
        "print('Divide the two arrays:')\n",
        "print(np.divide(a,b))\n",
        "\n",
        "print('Applying mod() function:')\n",
        "print(np.mod(a,b))\n",
        "\n",
        "print('Applying power function:')\n",
        "print(np.power(a,2))"
      ],
      "execution_count": 0,
      "outputs": []
    },
    {
      "cell_type": "markdown",
      "metadata": {
        "id": "uTwGIcCMjpfr",
        "colab_type": "text"
      },
      "source": [
        "# Rounding functions"
      ]
    },
    {
      "cell_type": "code",
      "metadata": {
        "id": "-7XzqsY7jr2f",
        "colab_type": "code",
        "colab": {}
      },
      "source": [
        "num = np.array([1.123, 2.234 ,4.499 ,5.555 ,6.66, 9.99])\n",
        "\n",
        "print('After rounding:')\n",
        "print(np.around(num))\n",
        "print(np.around(num, decimals = 1))\n",
        "\n",
        "print('After the floor function:')\n",
        "print(np.floor(a))\n",
        "\n",
        "print('After the ceil function:')\n",
        "print(np.ceil(a))"
      ],
      "execution_count": 0,
      "outputs": []
    },
    {
      "cell_type": "markdown",
      "metadata": {
        "id": "nWHIQK-Ih6Ie",
        "colab_type": "text"
      },
      "source": [
        "# Trigonometric Functions"
      ]
    },
    {
      "cell_type": "code",
      "metadata": {
        "id": "Uts9lKz2h5WE",
        "colab_type": "code",
        "colab": {}
      },
      "source": [
        "deg = np.array([0,30,45,60,90]) \n",
        "# Convert to radians by multiplying with pi/180 \n",
        "rad = deg*np.pi/180\n",
        "print('The radians of the degrees')\n",
        "print(rad)\n",
        "\n",
        "print('Sine of different angles:')\n",
        "sin = np.sin(rad)\n",
        "print(sin)\n",
        "\n",
        "print('Cosine values for angles in array:')\n",
        "cos = np.cos(rad)\n",
        "print(cos)\n",
        "\n",
        "print('Tangent values for given angles:')\n",
        "tan = np.tan(rad)\n",
        "print(tan)\n",
        "\n",
        "print('Arcsin values for given sin values:')\n",
        "arcsin = np.arcsin(sin)\n",
        "print(arcsin)\n",
        "\n",
        "print('Checking the degree of obtained radians')\n",
        "print(np.degrees(arcsin))\n",
        "\n",
        "print('Arccos values for given sin values:')\n",
        "arcsin = np.arccos(cos)\n",
        "print(arcsin)\n",
        "\n",
        "print('Arctan values for given sin values:')\n",
        "arcsin = np.arctan(tan)\n",
        "print(arcsin)"
      ],
      "execution_count": 0,
      "outputs": []
    },
    {
      "cell_type": "markdown",
      "metadata": {
        "id": "G1jyYvNZpBTV",
        "colab_type": "text"
      },
      "source": [
        "# Linear Algebra Functions\n",
        "\n",
        "The **vdot()** function returns the dot product of the two vectors. If the argument id is multi-dimensional array, it is flattened."
      ]
    },
    {
      "cell_type": "code",
      "metadata": {
        "id": "3rA1IR79qE1E",
        "colab_type": "code",
        "colab": {}
      },
      "source": [
        "a = np.array([1,2]) \n",
        "b = np.array([11,12]) \n",
        "print(np.vdot(a,b))"
      ],
      "execution_count": 0,
      "outputs": []
    },
    {
      "cell_type": "markdown",
      "metadata": {
        "id": "APaTUtHCqJZA",
        "colab_type": "text"
      },
      "source": [
        "The **inner()** function returns the inner product of vectors for 1-D arrays. For higher dimensions, it returns the sum product over the last axes."
      ]
    },
    {
      "cell_type": "code",
      "metadata": {
        "id": "EyUjukXjqrgM",
        "colab_type": "code",
        "colab": {}
      },
      "source": [
        "# For 1D arrays\n",
        "a = np.array([1,2,3])\n",
        "b = np.array([0,1,0])\n",
        "print(np.inner(a,b))\n",
        "\n",
        "# For 2D arrays\n",
        "a = np.array([[1,2], [3,4]]) \n",
        "b = np.array([[11, 12], [13, 14]])\n",
        "print(np.inner(a,b))"
      ],
      "execution_count": 0,
      "outputs": []
    },
    {
      "cell_type": "markdown",
      "metadata": {
        "id": "Pu2ksPDPuJrF",
        "colab_type": "text"
      },
      "source": [
        "The **numpy.matmul()** function returns the matrix product of two arrays."
      ]
    },
    {
      "cell_type": "code",
      "metadata": {
        "id": "kFk2kkyvuLYT",
        "colab_type": "code",
        "colab": {}
      },
      "source": [
        "a = [[1,0],[0,1]] \n",
        "b = [[4,1],[2,2]] \n",
        "print(np.matmul(a,b))"
      ],
      "execution_count": 0,
      "outputs": []
    },
    {
      "cell_type": "markdown",
      "metadata": {
        "id": "0ynGJ90HrGEy",
        "colab_type": "text"
      },
      "source": [
        "The **numpy.linalg.det()** function calculates the determinant of the input matrix."
      ]
    },
    {
      "cell_type": "code",
      "metadata": {
        "id": "rXfFo8N0sM5F",
        "colab_type": "code",
        "colab": {}
      },
      "source": [
        "b = np.array([[6,1,1], [4, -2, 5], [2,8,7]]) \n",
        "print(np.linalg.det(b))"
      ],
      "execution_count": 0,
      "outputs": []
    },
    {
      "cell_type": "markdown",
      "metadata": {
        "id": "dp3o0qPjsSVK",
        "colab_type": "text"
      },
      "source": [
        "The **numpy.linalg.inv()** function is used to calculate the inverse of a matrix. The inverse of a matrix is such that if it is multiplied by the original matrix, it results in identity matrix."
      ]
    },
    {
      "cell_type": "code",
      "metadata": {
        "id": "QmxCDk5vsd5M",
        "colab_type": "code",
        "colab": {}
      },
      "source": [
        "a = np.array([[1,1,1],[0,2,5],[2,5,-1]])\n",
        "print(np.linalg.inv(a))"
      ],
      "execution_count": 0,
      "outputs": []
    },
    {
      "cell_type": "markdown",
      "metadata": {
        "id": "0eE7Qel0u-8R",
        "colab_type": "text"
      },
      "source": [
        "The **numpy.linalg.solve()** function gives the solution of linear equations in the matrix form.\n",
        "\n",
        "Considering the following linear equations −\n",
        "\n",
        "$$x + y + z = 6$$\n",
        "$$2y + 5z = -4$$\n",
        "$$2x + 5y - z = 27$$\n",
        "\n",
        "They can be represented in the matrix form as −\n",
        "\n",
        "$$\\begin{bmatrix}1 & 1 & 1 \\\\0 & 2 & 5 \\\\2 & 5 & -1\\end{bmatrix} \\begin{bmatrix}x \\\\y \\\\z \\end{bmatrix} = \\begin{bmatrix}6 \\\\-4 \\\\27 \\end{bmatrix}$$"
      ]
    },
    {
      "cell_type": "code",
      "metadata": {
        "id": "ofmEAvqCveBK",
        "colab_type": "code",
        "colab": {}
      },
      "source": [
        "a = np.array([[1,1,1], [0,2,5],[2,5,-1]])\n",
        "b = np.array([6,-4,27])\n",
        "x = np.linalg.solve(a, b)\n",
        "print(x)"
      ],
      "execution_count": 0,
      "outputs": []
    }
  ]
}