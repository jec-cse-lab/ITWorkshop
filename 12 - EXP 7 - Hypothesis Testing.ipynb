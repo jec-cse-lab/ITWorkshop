{
  "nbformat": 4,
  "nbformat_minor": 0,
  "metadata": {
    "colab": {
      "name": "hypothesis_testing.ipynb",
      "provenance": [],
      "collapsed_sections": []
    },
    "kernelspec": {
      "name": "python3",
      "display_name": "Python 3"
    }
  },
  "cells": [
    {
      "cell_type": "markdown",
      "metadata": {
        "id": "tFM9X9o-sOzk",
        "colab_type": "text"
      },
      "source": [
        "#Hypothesis Testing\n",
        "\n",
        "**Hypothesis testing** is used to assess the plausibility of a hypothesis by using sample data. Such data may come from surveying a population, or synthetically generating it. Commonly, two statistical datasets are compared, or a sampled dataset is compared against a synthetic ideal dataset.\n",
        "\n",
        "Two hypothesis is proposed regarding the relation between the two datasets -\n",
        "*   ```Null hypothesis``` ($H_0$) proposes that there is no relationship between these two datasets. \n",
        "*   ```Alternative hypothesis``` ($H_a$) proposes that an statistical relationship between the two datasets exists\n",
        "\n",
        "This comparison is deemed statistically significant if the relationship between the datasets would be an unlikely realization of the ```null hypothesis``` according to a threshold probability — the ```significance level``` ($\\alpha$). In other words, we will accept the ```alternative hypothesis``` ($H_a$) only after statistically testing and rejecting the ```null hypothesis``` ($H_0$).\n",
        "\n",
        "Let us import the required libraries before we begin our experiment -"
      ]
    },
    {
      "cell_type": "code",
      "metadata": {
        "id": "2ylgxBLVEMgB",
        "colab_type": "code",
        "colab": {}
      },
      "source": [
        "import matplotlib.pyplot as plt\n",
        "import numpy as np\n",
        "import scipy.stats as stats\n",
        "%matplotlib inline"
      ],
      "execution_count": null,
      "outputs": []
    },
    {
      "cell_type": "markdown",
      "metadata": {
        "id": "qtp3VfUiFdtE",
        "colab_type": "text"
      },
      "source": [
        "---\n",
        "\n",
        "##Z-test\n",
        "\n",
        "Let us understand the idea behind hypothesis testing with an example.\n",
        "\n",
        "> A principal at a school claims that students in his school are above average intelligence and a ```random sample``` of 30 students IQ scores have a mean score of 112.5. We have data from a survey that mean ```population``` IQ is 100 with a standard deviation of 15. Is there sufficient evidence to support the principal claim?\n",
        "\n",
        "In the above example, the ```sample``` is from the students of the principal's school, whereas ```population``` might mean the students of the entire country.\n",
        "\n",
        "Thus, we have the following information -"
      ]
    },
    {
      "cell_type": "code",
      "metadata": {
        "id": "3Cqo6YhB3mUX",
        "colab_type": "code",
        "colab": {}
      },
      "source": [
        "sample_mu = 112.5\n",
        "sample_size = 30\n",
        "population_mu = 100\n",
        "population_sigma = 15"
      ],
      "execution_count": null,
      "outputs": []
    },
    {
      "cell_type": "markdown",
      "metadata": {
        "id": "NVFVjd2aYxIs",
        "colab_type": "text"
      },
      "source": [
        "First, we have to formulate the ```null hypothesis``` and the ```alternative hypothesis``` -\n",
        "*   ```Null Hypothesis```: $H_0 = \\mu,\\;$ i.e. the students of the school have average IQ\n",
        "*   ```Alternative Hypothesis```: $H_a \\gt \\mu,\\;$ i.e. the students of the school have above average IQ\n",
        "\n",
        "Then, we have to find the ```z-score``` using the formula below -\n",
        "<br /><br />\n",
        "$$z = \\frac{\\bar{x} - \\mu}{\\frac{\\sigma}{\\sqrt{N}}}$$\n",
        "\n",
        "where $\\bar{x}$ is the ```sample mean```, $\\mu$ is ```population mean```, $\\sigma$ is ```population standard deviation```, and $N$ is ```sample size```.\n",
        "<br /><br />\n",
        "The formula to find the ```z-score``` is different in this experiment, compared to the one we saw in the ```Binomial and Gaussian Probability Distribution``` experiment. This is because we are tying to calculate the ```sample z-score``` in this experiment, while we calculated the ```population z-score``` in the previous experiment.\n",
        "\n",
        "Calculate the ```z-score``` for our data using the new formula -"
      ]
    },
    {
      "cell_type": "code",
      "metadata": {
        "id": "KuBtsj5scGrx",
        "colab_type": "code",
        "colab": {}
      },
      "source": [
        "z_score = None\n",
        "print(\"Z-score for sample data: \"+str(round(z_score,4)))"
      ],
      "execution_count": null,
      "outputs": []
    },
    {
      "cell_type": "markdown",
      "metadata": {
        "id": "EbmHF518f49u",
        "colab_type": "text"
      },
      "source": [
        "Now that we have calculated the z-score for our sample data, we are ready to either accept or reject the null hypothesis.\n",
        "\n",
        "But before we can do that, we need to fix the significance level ($\\alpha$).\n",
        "\n",
        "Let us use the commonly used default value of $5\\%\\;(\\alpha = 0.05)$. Using a significance level of $5\\%\\;(\\alpha = 0.05)$ would give us a confidence of $95\\%\\;(c = 1-\\alpha)$. We can use the z-score of $1.645$."
      ]
    },
    {
      "cell_type": "code",
      "metadata": {
        "id": "tNvimnft7SRC",
        "colab_type": "code",
        "colab": {}
      },
      "source": [
        "critical_value = stats.norm.ppf(q=1-0.05)\n",
        "print(\"The critical value for 95% confidence is: \"+str(round(critical_value,4)))"
      ],
      "execution_count": null,
      "outputs": []
    },
    {
      "cell_type": "markdown",
      "metadata": {
        "id": "78_clMilJu4Q",
        "colab_type": "text"
      },
      "source": [
        "If ```z-score``` is greater than ```critical value``` then reject the ```null hypohesis``` (and accept the ```alternative hypothesis```), else accept the ```null hypothesis``` (and reject the ```alternative hypothesis```)."
      ]
    },
    {
      "cell_type": "code",
      "metadata": {
        "id": "EKdavenTKc6-",
        "colab_type": "code",
        "colab": {}
      },
      "source": [
        "if(None):\n",
        "  print(\"Null hypothesis accepted.\")\n",
        "else:\n",
        "  print(\"Alternative hypothesis accepted.\")"
      ],
      "execution_count": null,
      "outputs": []
    },
    {
      "cell_type": "markdown",
      "metadata": {
        "id": "HSfx4Alz3m6w",
        "colab_type": "text"
      },
      "source": [
        "Let us visualize the all the data that we have -"
      ]
    },
    {
      "cell_type": "code",
      "metadata": {
        "id": "L9EsHWPj3PHg",
        "colab_type": "code",
        "colab": {}
      },
      "source": [
        "x = np.linspace(population_mu - 3*population_sigma, population_mu + 3*population_sigma, 1000)\n",
        "norm = stats.norm(population_mu, population_sigma)\n",
        "rejection_region = critical_value * population_sigma + population_mu\n",
        "plt.plot(x, norm.pdf(x))\n",
        "line_mean, = plt.plot([population_mu, population_mu],[0,norm.pdf(population_mu)], label='Mean')\n",
        "line_rej, = plt.plot([rejection_region, rejection_region],[0,norm.pdf(rejection_region)], label='Critical Value')\n",
        "plt.legend([line_mean, line_rej], ['Mean', 'Critical Value'])\n",
        "plt.show()"
      ],
      "execution_count": null,
      "outputs": []
    },
    {
      "cell_type": "markdown",
      "metadata": {
        "id": "xY5a6tLuMj2f",
        "colab_type": "text"
      },
      "source": [
        "The area on the left of the line corresponding to the ```critical value``` on the above graph encompasses $95\\%$ of the total region under the curve.\n",
        "\n",
        "The line corresponding to our ideal ```null hypothesis``` ($H_0$) is represented by the line labelled as ```mean```.\n",
        "\n",
        "Assuming that $H_0$ is true, we may still not observe data equal to the ```mean``` value, i.e., we still accept $H_0$ even if our observed data deviates from the ```mean```. In fact, we will accept $H_0$ as long as the observed data is on the less than the ```citical value```.\n",
        "\n",
        "The observed data, in our example, is so much towards the right of the ```critical value``` that it would not even fit in our graph. Hence, we can reject our ```null hypothesis```, and accept the ```alternative hypothesis``` that *the students of the school have above average IQ*.\n",
        "\n",
        "---\n",
        "##Chi-Squared test\n",
        "\n",
        "```Pearson's chi-square test``` is used to determine whether there is a statistically significant difference between the ```expected``` frequencies and the ```observed``` frequencies in one or more categories of a ```contingency table```.\n",
        "\n",
        "There are two types of ```chi-square tests```. Both use the ```chi-square statistic and distribution``` for different purposes:\n",
        "\n",
        "*   A ```chi-square goodness of fit test``` determines if a sample data matches a population.\n",
        "*   A ```chi-square test for independence``` compares two variables in a contingency table to see if they are related.\n",
        "\n",
        "**Let us consider the following observation as an example** -\n",
        "\n",
        "> 256 visual artists were surveyed to find out their zodiac sign.\n",
        ">\n",
        "> The results were:\n",
        "\n",
        "|Aries|Taurus|Gemini|Cancer|Leo|Virgo|Libra|Scorpio|Sagittarius|Capricorn|Aquarius|Pisces|\n",
        "|:--:|:--:|:--:|:--:|:--:|:--:|:--:|:--:|:--:|:--:|:--:|:--:|\n",
        "|29|24|22|19|21|18|19|20|23|18|20|23|\n",
        "\n",
        "<br />\n",
        "We will test the hypothesis -\n",
        "\n",
        "*  $H_0$: Zodiac signs are evenly distributed across visual artists.\n",
        "*  $H_a$: Zodiac signs are not evenly distributed across visual artists.\n",
        "\n",
        "If the zodiac signs were evenly distributed, then we would expect each zodiac sign to have $256/12$ people."
      ]
    },
    {
      "cell_type": "code",
      "metadata": {
        "id": "9hHEtTbSMiDL",
        "colab_type": "code",
        "colab": {}
      },
      "source": [
        "observed = [29,24,22,19,21,18,19,20,23,18,20,23]\n",
        "expected = [sum(observed)/len(observed) for i in range(len(observed))]"
      ],
      "execution_count": null,
      "outputs": []
    },
    {
      "cell_type": "markdown",
      "metadata": {
        "id": "UUjzrNYTWSZQ",
        "colab_type": "text"
      },
      "source": [
        "Calculate the ```Chi-squared statistic``` with $n$ observations -\n",
        "\n",
        "$$\\chi_{c}^{2} = \\sum_{i=1}^{n}{\\frac{(O_i - E_i)^2}{E_i}},$$\n",
        "\n",
        "where $O_i$ and $E_i$ are the $i^{th}$ observation and expected data respectively."
      ]
    },
    {
      "cell_type": "code",
      "metadata": {
        "id": "JdKccbybUz9I",
        "colab_type": "code",
        "colab": {}
      },
      "source": [
        "chi_squared_statistic = None\n",
        "print(\"Chi-squared statistic is: \"+str(chi_squared_statistic))"
      ],
      "execution_count": null,
      "outputs": []
    },
    {
      "cell_type": "markdown",
      "metadata": {
        "id": "DFQ63WOGYTdD",
        "colab_type": "text"
      },
      "source": [
        "The ```degree of freedom``` is one less than the total categories. (We substract one because given all other data, we can calculate the value for the final category - so it is not ```free```.)"
      ]
    },
    {
      "cell_type": "code",
      "metadata": {
        "id": "R3xovKEpYut6",
        "colab_type": "code",
        "colab": {}
      },
      "source": [
        "dof = len(observed)-1\n",
        "p_value = 1-stats.chi2.cdf(chi_squared_statistic , dof)\n",
        "print(\"The p-value is: \"+str(p_value))"
      ],
      "execution_count": null,
      "outputs": []
    },
    {
      "cell_type": "markdown",
      "metadata": {
        "id": "QYPuy7-GauP5",
        "colab_type": "text"
      },
      "source": [
        "Use the ```p-value``` to decide whether to support or reject the ```null hypothesis```. In general, small ```p-values``` ($1\\%$ to $5\\%$) would cause you to reject the ```null hypothesis```.\n",
        "\n",
        "The very large ```p-value``` in our example ($92.65\\%$) means that the ```null hypothesis``` should not be rejected."
      ]
    },
    {
      "cell_type": "code",
      "metadata": {
        "id": "yTc3t4OcZPxU",
        "colab_type": "code",
        "colab": {}
      },
      "source": [
        "if(None):\n",
        "  print(\"Reject null hypothesis.\")\n",
        "else:\n",
        "  print(\"Accept null hypothesis.\")"
      ],
      "execution_count": null,
      "outputs": []
    },
    {
      "cell_type": "markdown",
      "metadata": {
        "id": "Jx2jXtEFeKcv",
        "colab_type": "text"
      },
      "source": [
        "---\n",
        "#Conclusion\n",
        "\n",
        "In this experiment, you -\n",
        "* Learnt an overview of hypothesis testing\n",
        "* Implemented Z-test\n",
        "* Implemented Chi-squared test\n",
        "\n",
        "```Hypothesis testing```, also called ```Confirmatory Data Analysis```, is an integral part of ```Data Analysis```. It can give statistical support to any hypothesis that you make by analysing datasets.\n",
        "\n",
        "In this experiment we simply implemented a few formulas to do basic hypothesis testing without really going into the depth of the ```why's``` and ```how's``` of these things. You should research more into these topics to learn the theories and mathematics behing everything that we did. You will find these topics useful."
      ]
    }
  ]
}