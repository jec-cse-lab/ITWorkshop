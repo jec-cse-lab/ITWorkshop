{
  "nbformat": 4,
  "nbformat_minor": 0,
  "metadata": {
    "colab": {
      "name": "moments.ipynb",
      "provenance": [],
      "collapsed_sections": []
    },
    "kernelspec": {
      "name": "python3",
      "display_name": "Python 3"
    }
  },
  "cells": [
    {
      "cell_type": "markdown",
      "metadata": {
        "id": "9lsAiMpcS3LG",
        "colab_type": "text"
      },
      "source": [
        "#Moments\n",
        "\n",
        "In mathematics, a moment is a specific quantitative measure of the shape of a function. Moments are a set of statistical parameters to measure a distribution.\n",
        "\n",
        "If the function is a probability distribution, then the zeroth moment is the total probability (i.e. one), the first moment is the expected value (mean), the second central moment is the variance, the third standardized moment is the skewness, and the fourth standardized moment is the kurtosis.\n",
        "\n",
        "The $r$-th moment of a real-valued continuous function $f(x)$ of a real variable about a value $c$ is\n",
        "\n",
        "$${\\mu _{n}=\\int _{-\\infty }^{\\infty }(x-c)^{r}\\,f(x)\\,\\mathrm {d} x}$$\n",
        "\n",
        "In case of a discrete-valued probability distribution function $p(x)$, the $r$-th moment can be found using -\n",
        "\n",
        "$${\\mu _{n}={\\frac{1}{N}}{\\sum _{x\\:\\in\\:X }(x-c)^{r}}}$$\n",
        "\n",
        "Implement the function below to find the $r$-th moment of the data given an array, $X$, of data points, and value $c$."
      ]
    },
    {
      "cell_type": "code",
      "metadata": {
        "id": "6OaA_NlsnINK",
        "colab_type": "code",
        "colab": {}
      },
      "source": [
        "def moment(X,c,r):\n",
        "  # Input --> X - array of data; c - Integer; r - Integer\n",
        "  N = len(X)\n",
        "  moment = None\n",
        "  return moment"
      ],
      "execution_count": 0,
      "outputs": []
    },
    {
      "cell_type": "markdown",
      "metadata": {
        "id": "uOUylk9ZnK3V",
        "colab_type": "text"
      },
      "source": [
        "Moments can be calculated around three variables -\n",
        "1.   Zero ($c=0$)\n",
        "2.   Mean ($c=\\mu$) (Moments calculated around the mean are called ```central moments```.)\n",
        "3.   Constant ($c$ is a constant)\n",
        "\n",
        "Let us consider the marks data that we worked with in the last example."
      ]
    },
    {
      "cell_type": "code",
      "metadata": {
        "id": "xtQhfWa_pw7E",
        "colab_type": "code",
        "colab": {}
      },
      "source": [
        "marks = [72,90,95,57,78,83,95,43,64,60,54,52,81,72,53,75,89,32,42,58,69,75,54,73,71,74,54,69,70,70,74,65,72,42,87,81,81,64,90,56,61,73,58,\\\n",
        "         65,56,54,65,71,74,84,55,69,44,78,84,41,85,55,59,17,74,39,61,80,58,64,37,72,58,64,63,55,51,57,49,41,26,78,74,68,49,45,47,64,39,80,\\\n",
        "         83,71,70,86,72,34,79,45,86,81,66,72,67,67,67,74,91,44,86,67,100,63,76,64,89,55,53,58,100,77,85,82,63,69,92,89,93,57,80,95,68,77,82,\\\n",
        "         49,84,37,74,81,79,55,54,55,66,61,72,62,55,43,73,39,84,68,75,100,67,67,70,49,67,89,74,60,86,62,78,88,53,53,92,100,51,76,83,75,73,88,\\\n",
        "         86,67,51,91,54,77,70,100,68,64,50,69,52,67,76,66,52,88,65,83,64,62,84,55,69,56,53,79,84,81,77,69,41,71,62,80,81,61,79,28,62,51,91,\\\n",
        "         83,86,42,77,56,68,85,65,80,66,56,72,50,72,95,64,43,86,87,82,75,66,60,52,80,68,83,52,51,74,76,76,70,64,60,49,83,70,80,52,73,73,77,\\\n",
        "         75,81,79,79,50,93,73,42,75,72,92,76,63,49,53,70,85,78,92,63,86,56,52,48,79,78,46,82,82,89,75,76,70,73,60,73,77,62,41,74,46,87,78,\\\n",
        "         54,84,76,75,67,87,52,71,57,76,60,61,67,64,66,82,72,71,65,79,86,81,53,46,90,61,23,75,55,60,37,56,78,93,68,70,51,38,55,61,73,76,72,73,\\\n",
        "         80,61,94,74,74,65,57,78,58,71,72,61,66,62,90,62,84,58,34,60,58,58,66,64,84,77,73,74,97,70,43,90,95,83,64,86,100,81,49,43,76,73,78,64,\\\n",
        "         70,67,68,67,54,74,45,67,89,63,59,54,43,65,99,59,73,65,80,57,84,71,83,66,67,72,73,74,73,59,56,93,58,58,85,39,67,83,71,59,63,66,72,56,\\\n",
        "         66,48,68,66,56,88,81,81,73,83,82,74,66,81,46,73,85,92,77,58,61,56,89,54,100,65,58,54,70,90,58,87,31,67,88,74,85,69,86,67,90,76,62,68,\\\n",
        "         71,71,59,68,52,52,74,47,75,53,82,85,64,83,88,64,64,48,78,69,71,79,87,61,89,59,82,70,59,78,92,71,50,49,61,97,87,89,74,78,78,49,86,58,59,\\\n",
        "         52,60,61,53,41,74,67,54,61,88,69,83,60,66,66,92,69,82,77,95,63,83,100,67,67,72,76,90,48,62,45,39,72,67,70,66,75,74,90,80,51,43,100,71,48,\\\n",
        "         68,75,96,62,66,81,55,51,91,56,61,97,79,73,75,77,76,73,63,64,66,57,62,68,76,100,79,24,54,77,82,60,29,78,57,89,72,84,58,64,63,60,59,90,77,\\\n",
        "         93,68,45,78,81,73,61,63,51,96,58,97,70,48,57,51,64,60,74,88,84,74,80,92,76,74,52,88,81,79,65,81,70,62,53,79,56,80,86,70,79,67,67,66,60,87,\\\n",
        "         77,66,71,69,63,60,73,85,74,72,76,57,78,84,77,64,78,82,75,61,72,68,55,40,66,99,75,78,58,90,53,76,74,77,63,89,82,72,78,66,81,67,84,64,63,72,\\\n",
        "         34,59,87,61,84,85,100,81,70,94,78,96,76,73,72,59,90,48,43,74,75,51,92,39,77,46,89,47,58,57,79,66,71,60,73,57,84,73,55,79,75,64,60,84,69,72,\\\n",
        "         77,90,55,95,58,68,59,77,72,58,81,62,63,72,75,62,71,60,48,73,67,78,65,58,72,44,79,85,56,90,85,59,81,51,79,38,65,65,62,66,74,84,52,68,70,84,\\\n",
        "         60,55,73,80,94,85,76,81,74,45,75,54,31,47,64,84,80,86,59,70,72,91,90,90,52,87,58,67,68,69,86,54,60,86,60,82,50,64,64,82,57,77,52,58,44,77,\\\n",
        "         65,85,85,54,72,75,67,68,85,67,64,97,68,79,49,73,62,86,42,71,93,82,53,42,74,51,58,72,84,90,62,64,82,61,72,76,64,70,73,46,51,76,100,72,65,51,\\\n",
        "         85,92,67,74,62,34,29,78,54,78,84,78,48,100,84,77,48,84,75,64,42,84,61,62,61,70,100,61,77,96,70,53,66,65,70,64,56,61,43,56,74,57,71,75,87,\\\n",
        "         63,57,58,81,68,66,91,66,62,68,61,82,58,50,75,73,77,74,52,69,57,87,100,63,81,58,54,100,76,57,70,68,63,76,84,100,72,50,65,63,82,62,65,41,95,\\\n",
        "         24,78,85,87,75,51,59,75,45,86,81,82,76,72,63,99,55,71,78,86,59,64]"
      ],
      "execution_count": 0,
      "outputs": []
    },
    {
      "cell_type": "markdown",
      "metadata": {
        "id": "Jk1mEjVuvyfA",
        "colab_type": "text"
      },
      "source": [
        "Let us calculate the four moments of the ```marks``` data.\n",
        "\n",
        "---\n",
        "##The first moment: **mean**\n",
        "\n",
        "The ```mean``` of a dataset is the $1^{st}$ moment around $0$.\n",
        "\n",
        "$$\\mu = {\\mu _{1}={\\frac{1}{N}}{\\sum _{x\\:\\in\\:X }x}}$$\n",
        "\n",
        "Use the ```moment``` function defined above to find the ```mean``` of the ```marks``` data.\n",
        "\n",
        "The first parameter, $X$, to the function would be the ```marks``` list. Provide the remaining parameters as necessary."
      ]
    },
    {
      "cell_type": "code",
      "metadata": {
        "id": "tg64sxY8w2zo",
        "colab_type": "code",
        "colab": {}
      },
      "source": [
        "mean = None\n",
        "print(\"The first moment is =\"+str(mean))"
      ],
      "execution_count": 0,
      "outputs": []
    },
    {
      "cell_type": "markdown",
      "metadata": {
        "id": "sekEvgRnxhXq",
        "colab_type": "text"
      },
      "source": [
        "##The second moment: **variance**\n",
        "\n",
        "The ```variance``` of a dataset is the $2^{nd}$ moment around the ```mean```.\n",
        "\n",
        "$${\\sigma}^2 = {\\mu _{2}={\\frac{1}{N}}{\\sum _{x\\:\\in\\:X }(x-\\mu _{1})^{2}}}$$\n",
        "\n",
        "Use the ```moment``` function defined above to find the ```mean``` of the ```marks``` data.\n",
        "\n",
        "The first parameter, $X$, to the function would be the ```marks``` list. Provide the remaining parameters as necessary."
      ]
    },
    {
      "cell_type": "code",
      "metadata": {
        "id": "j5KGV_dLx6n2",
        "colab_type": "code",
        "colab": {}
      },
      "source": [
        "variance = None\n",
        "print(\"The second moment is =\"+str(variance))"
      ],
      "execution_count": 0,
      "outputs": []
    },
    {
      "cell_type": "markdown",
      "metadata": {
        "id": "GvNkq8PpzCx5",
        "colab_type": "text"
      },
      "source": [
        "##The third moment: **skewness**\n",
        "\n",
        "The ```skewness``` is a measure of the asymmetry of the probability distribution of a real-valued random variable about its mean.\n",
        "\n",
        "<img src=\"https://upload.wikimedia.org/wikipedia/commons/c/cc/Relationship_between_mean_and_median_under_different_skewness.png\" width=\"600\" alt=\"skewness-wikipedia\" />\n",
        "\n",
        "The skewness of a random variable X is the third standardized moment ${{\\tilde {\\mu }}_{3}}$. It is the ```3rd moment around the mean``` divided by the ```2nd moment around the mean (variance)``` raised to the power $\\frac{3}{2}$.\n",
        "\n",
        "$${\\tilde {\\mu }}_{3}=\\frac{{\\frac{1}{N}}{\\sum{{(x-\\mu)}^3}}}{{(\\sigma^{2})}^{\\frac{3}{2}}}$$\n",
        "\n",
        "where $\\mu$ is the ```mean (1st moment around 0)``` and ${\\sigma^{2}}$  is the ```variance (2nd moment around mean)``` \n",
        "\n",
        "Use the ```moment``` function defined above to find the numerator of the ```skewness``` formula. The first parameter, $X$, to the function would be the ```marks``` list. Provide the remaining parameters as necessary. (HINT: You have already calculated ```mean``` $(\\mu)$ previously. You can reuse the value.)\n",
        "\n",
        "You need the ```variance``` of the data for the denominator, which you have already calculated. You can reuse the value."
      ]
    },
    {
      "cell_type": "code",
      "metadata": {
        "id": "IrwmtkJI4ycj",
        "colab_type": "code",
        "colab": {}
      },
      "source": [
        "skewness = None\n",
        "print(\"The third moment is =\"+str(skewness))"
      ],
      "execution_count": 0,
      "outputs": []
    },
    {
      "cell_type": "markdown",
      "metadata": {
        "id": "GcRbvwFfAq8b",
        "colab_type": "text"
      },
      "source": [
        "##The fourth moment: **kurtosis**\n",
        "\n",
        "Kurtosis is a measure of the ```tailedness``` of the probability distribution of a real-valued random variable. Like skewness, kurtosis describes the shape of a probability distribution.\n",
        "\n",
        "The ```kurtosis``` of any *univariate* normal distribution is 3. It is common to compare the kurtosis of a distribution to this value.\n",
        "\n",
        "The ```excess kurtosis``` is defined as kurtosis minus 3. There are 3 distinct regimes as described below. Distributions with zero excess kurtosis are called mesokurtic, or mesokurtotic. A distribution with positive excess kurtosis is called leptokurtic, or leptokurtotic. A distribution with negative excess kurtosis is called platykurtic, or platykurtotic.\n",
        "\n",
        "<img src=\"https://www.vosesoftware.com/riskwiki/images/image15_346.gif\" />\n",
        "\n",
        "The kurtosis of a random variable X is the fourth standardized moment ${{\\tilde {\\mu }}_{4}}$. It is the ```4th moment around the mean``` divided by the ```2nd moment around the mean (variance)``` squared.\n",
        "\n",
        "$${\\tilde {\\mu }}_{4}=\\frac{{\\frac{1}{N}}{\\sum{{(x-\\mu)}^4}}}{{(\\sigma^{2})}^{2}}$$\n",
        "\n",
        "where $\\mu$ is the ```mean (1st moment around 0)``` and ${\\sigma^{2}}$  is the ```variance (2nd moment around mean)```.\n",
        "\n",
        "Use the ```moment``` function defined above to find the numerator of the ```skewness``` formula. The first parameter, $X$, to the function would be the ```marks``` list. Provide the remaining parameters as necessary."
      ]
    },
    {
      "cell_type": "code",
      "metadata": {
        "id": "hNyj7ScACgDq",
        "colab_type": "code",
        "colab": {}
      },
      "source": [
        "kurtosis = None\n",
        "excess_kurtosis = 3-kurtosis\n",
        "print(\"The fourth moment is =\"+str(excess_kurtosis))"
      ],
      "execution_count": 0,
      "outputs": []
    },
    {
      "cell_type": "markdown",
      "metadata": {
        "id": "tHIh2AnZDq4w",
        "colab_type": "text"
      },
      "source": [
        "#Conclusion\n",
        "\n",
        "Let us now use a Python library to find the four moments. Verify that the results you obtained are same as the output of the following code.\n",
        "\n",
        "(The ```variance``` may differ by a small amount. This is because we are calculating the ```population variance```, whereas the library is calculating the ```sample variance```.)"
      ]
    },
    {
      "cell_type": "code",
      "metadata": {
        "id": "2fvPQNymYY5S",
        "colab_type": "code",
        "colab": {}
      },
      "source": [
        "from scipy import stats\n",
        "stats.describe(marks)"
      ],
      "execution_count": 0,
      "outputs": []
    },
    {
      "cell_type": "markdown",
      "metadata": {
        "id": "FV_VFFdqYZsg",
        "colab_type": "text"
      },
      "source": [
        "Let us plot the histogram of the ```marks``` data, and fit a distribution over it."
      ]
    },
    {
      "cell_type": "code",
      "metadata": {
        "id": "yAjnnUBcKhrg",
        "colab_type": "code",
        "colab": {}
      },
      "source": [
        "import matplotlib.pyplot as plt\n",
        "import seaborn as sns\n",
        "%matplotlib inline\n",
        "sns.distplot(marks, hist=True)\n",
        "plt.show()"
      ],
      "execution_count": 0,
      "outputs": []
    },
    {
      "cell_type": "markdown",
      "metadata": {
        "id": "DXMp-X-WKtEy",
        "colab_type": "text"
      },
      "source": [
        "We have learnt the definition of the four moments above and have calculated their values for the ```marks``` dataset.\n",
        "\n",
        "Do the calculated values agree with what we can interpret visually from the histogram and the distribution plot?\n",
        "\n",
        "---\n",
        "\n",
        "You have learnt to calculate and interpret the four moments, which are commonly used in **Descriptive Data Analysis**. Congratulations..!!\n",
        "\n",
        "In the next experiment, we will learn about another probability distribution called the ```Chi Squared Distribution``` and learn how probability distributions are used in **Confirmatory Data Analysis**."
      ]
    }
  ]
}